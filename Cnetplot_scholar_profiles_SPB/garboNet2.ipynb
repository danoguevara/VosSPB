{
 "cells": [
  {
   "cell_type": "code",
   "execution_count": 13,
   "metadata": {},
   "outputs": [],
   "source": [
    "from multi_rake import Rake\n",
    "import pandas as pd\n",
    "\n",
    "# import openai and set the api key\n",
    "import os\n",
    "from openai import OpenAI"
   ]
  },
  {
   "cell_type": "code",
   "execution_count": 22,
   "metadata": {},
   "outputs": [],
   "source": [
    "def getKewords(sentence):\n",
    "\n",
    "    #get keywords from the sentence with openai gpt-3.5\n",
    "\n",
    "    chat_completion = client.chat.completions.create(\n",
    "        messages=[\n",
    "            {\n",
    "                \"role\": \"user\",\n",
    "                \"content\": \"Get 3 keywords (delimited by commas and not period) from the sentence:\" + sentence,\n",
    "            }\n",
    "        ],\n",
    "        model=\"gpt-3.5-turbo\",\n",
    "    )\n",
    "\n",
    "    keywords = chat_completion.choices[0].message.content\n",
    "\n",
    "    return keywords\n"
   ]
  },
  {
   "cell_type": "code",
   "execution_count": 24,
   "metadata": {},
   "outputs": [],
   "source": [
    "filename = \"./titles_scholar_profile_v2.xlsx\"\n",
    "\n",
    "df = pd.read_excel(filename)\n",
    "\n",
    "#get keywords from each row in the dataframe and add them to a new column\n",
    "\n",
    "df['keywords'] = df['Paper Titles'].apply(getKewords)\n",
    "\n",
    "df.to_excel(\"titles_scholar_profile_v2_keywords.xlsx\", index=False)"
   ]
  }
 ],
 "metadata": {
  "kernelspec": {
   "display_name": "network",
   "language": "python",
   "name": "python3"
  },
  "language_info": {
   "codemirror_mode": {
    "name": "ipython",
    "version": 3
   },
   "file_extension": ".py",
   "mimetype": "text/x-python",
   "name": "python",
   "nbconvert_exporter": "python",
   "pygments_lexer": "ipython3",
   "version": "3.10.14"
  }
 },
 "nbformat": 4,
 "nbformat_minor": 2
}
