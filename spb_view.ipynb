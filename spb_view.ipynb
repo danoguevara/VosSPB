{
 "cells": [
  {
   "cell_type": "code",
   "execution_count": 77,
   "metadata": {},
   "outputs": [
    {
     "name": "stdout",
     "output_type": "stream",
     "text": [
      "57\n",
      "51\n"
     ]
    }
   ],
   "source": [
    "import pandas as pd\n",
    "\n",
    "#read ponentes.csv\n",
    "\n",
    "df = pd.read_csv('ponentes.csv', sep=';')\n",
    "print(len(df))\n",
    "#filter NaN in ORCID column\n",
    "\n",
    "df = df.dropna(subset=['ORCID'])\n",
    "print(len(df))"
   ]
  },
  {
   "cell_type": "code",
   "execution_count": 78,
   "metadata": {},
   "outputs": [],
   "source": [
    "def get_doi_from_ORCID(orcid):\n",
    "    import requests\n",
    "    import json\n",
    "\n",
    "    doiArray = []\n",
    "\n",
    "    url = 'https://pub.orcid.org/v2.0/%s/works' % orcid\n",
    "\n",
    "    headers = {\n",
    "        'Accept': 'application/json'\n",
    "    }\n",
    "\n",
    "    r = requests.get(url, headers=headers)\n",
    "\n",
    "    data = json.loads(r.text)\n",
    "\n",
    "    for work in data['group']:\n",
    "        for external_id in work['external-ids']['external-id']:\n",
    "            if external_id['external-id-type'] == 'doi':\n",
    "                doi = external_id['external-id-value']\n",
    "                doiArray.append(doi)\n",
    "                break\n",
    "            else:\n",
    "                continue\n",
    "\n",
    "        #title = work['work-summary'][0]['title']['title']['value']\n",
    "    return doiArray\n",
    "\n",
    "def get_doi_from_table(df, last_papers=5):\n",
    "    doiArray = []\n",
    "    for i, j in df.iterrows(): \n",
    "        orcid = df['ORCID'][i]\n",
    "        # print('Getting DOIs from ORCID: %s' % orcid)\n",
    "        doiArray.append(get_doi_from_ORCID(orcid)[:last_papers])\n",
    "    return doiArray\n",
    "\n",
    "def export_txt(doiArray):\n",
    "    with open('dois.txt', 'w') as f:\n",
    "        for item in doiArray:\n",
    "            if len(item) > 0:\n",
    "                for doi in item:\n",
    "                    f.write(\"%s\\n\" % doi)"
   ]
  },
  {
   "cell_type": "code",
   "execution_count": 79,
   "metadata": {},
   "outputs": [],
   "source": [
    "table_doi_raw = get_doi_from_table(df)"
   ]
  },
  {
   "cell_type": "code",
   "execution_count": 80,
   "metadata": {},
   "outputs": [],
   "source": [
    "export_txt(table_doi_raw)"
   ]
  }
 ],
 "metadata": {
  "kernelspec": {
   "display_name": "base",
   "language": "python",
   "name": "python3"
  },
  "language_info": {
   "codemirror_mode": {
    "name": "ipython",
    "version": 3
   },
   "file_extension": ".py",
   "mimetype": "text/x-python",
   "name": "python",
   "nbconvert_exporter": "python",
   "pygments_lexer": "ipython3",
   "version": "3.12.2"
  }
 },
 "nbformat": 4,
 "nbformat_minor": 2
}
